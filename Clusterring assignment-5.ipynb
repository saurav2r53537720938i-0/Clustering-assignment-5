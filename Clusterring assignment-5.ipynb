{
 "cells": [
  {
   "cell_type": "markdown",
   "id": "f3a0e013-3eec-47bf-8d19-1a2d87183c1c",
   "metadata": {},
   "source": [
    "A contigency matrix also know as a confussion matrix is a table used to evluate the perfomance of a classfication model it compares the actual outcomes with the predicted outcomes with the predicted actual outcomes it typically 2*2 matrix for binary classfication with four outcomes true postive true negative false postive and false negative"
   ]
  },
  {
   "cell_type": "markdown",
   "id": "909cba08-2682-4da6-becf-ffe27bc79a51",
   "metadata": {},
   "source": [
    "A pair confussion matrix extends the tradtional confussion matrix to handle the comprsion between two classfiers instead of just one instead of a 2*2 matrix it typicaly the four qudrants of the matrix reprsent the combinations of predctions made by two classfiers. The type of matrix can be useful in situations where you want to compare the performance of twoo diffrent classfication model or algorthims it helps in understanding how their predction allign  and where they differ providing insight into their strngth and weakness addtionally it can aid in ensemble learning  techniques or in situations where you want to asses the aggrement between multiple classfiiers"
   ]
  },
  {
   "cell_type": "markdown",
   "id": "e52ceab3-a122-4353-a83a-aa065d460614",
   "metadata": {},
   "source": [
    "In the context of natural language processing (NLP) extrnsic evluation measure asseses the perfomance of a language model based on its perfomance on downstream tasks these tsks typicaly involve using the language model as a component within a lager application system. Extrnsic evluation measure are contrasted with intrsnic evluation measure which directly asseses specfic properties of the language model itself such as its ablity to genrate coherent text or understand synthetic structure"
   ]
  },
  {
   "cell_type": "markdown",
   "id": "4ec43935-e01a-4118-abfe-41ae78843685",
   "metadata": {},
   "source": [
    "In the context of machine learning intrnsic measure evluate the performance of a model based on its internal chartestics or properties without considering its performance on specfic downstream task theses measure sucha as ablity to learn from data its genrlzation capblity or its compuational efficency. on the other hand extrnsic measure evluate the performance of a model based on its performance on specfic downstream tasks or applicationmodels where it deployed as a component within in a larger system"
   ]
  },
  {
   "cell_type": "markdown",
   "id": "28029f8c-d278-4ac4-8771-14958c9d78c6",
   "metadata": {},
   "source": [
    "A confussion matrix is a handytool in machine learnig for evluating the perfomance of a classfication model it summarize the predction of a model on a set of data points compared to actual labels its typically a square matrix where rows reprsent the actual classes and column reprsent the predited classes.\n",
    "1. Accuracy Assessment: The diagonal elements of confusion matrix reprsent correct predctions while off-diagonal elemenets reprsent misclassfication overall accuracy can be calculated by summing up the correct predctions and dividing by the total number of predction\n",
    "2. Class-specfic Performance:By examining the rows or columns of confusion matrix you can evluate how well the model performs for each classesthe model struggle with excels at.\n",
    "3. Precsion and Recall: Precsion measure the accuracy of postive preections while recall measure the proprption of actual identified these metrices provide insight into how well the model balances false alarms and misses"
   ]
  },
  {
   "cell_type": "code",
   "execution_count": null,
   "id": "ae5b2659-2739-4bd2-9167-d3a782244d85",
   "metadata": {},
   "outputs": [],
   "source": []
  }
 ],
 "metadata": {
  "kernelspec": {
   "display_name": "Python 3 (ipykernel)",
   "language": "python",
   "name": "python3"
  },
  "language_info": {
   "codemirror_mode": {
    "name": "ipython",
    "version": 3
   },
   "file_extension": ".py",
   "mimetype": "text/x-python",
   "name": "python",
   "nbconvert_exporter": "python",
   "pygments_lexer": "ipython3",
   "version": "3.10.8"
  }
 },
 "nbformat": 4,
 "nbformat_minor": 5
}
